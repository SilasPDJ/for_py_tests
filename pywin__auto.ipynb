{
 "cells": [
  {
   "cell_type": "code",
   "execution_count": 21,
   "metadata": {},
   "outputs": [
    {
     "data": {
      "text/plain": [
       "<hwndwrapper.DialogWrapper - '*Sem título - Bloco de notas', Notepad, 854128>"
      ]
     },
     "execution_count": 21,
     "metadata": {},
     "output_type": "execute_result"
    }
   ],
   "source": [
    "from pywinauto.application import Application\n",
    "app = Application().start(\"notepad.exe\")\n",
    "app.UntitledNotepad.type_keys(\"%FOlá\")\n",
    "app.UntitledNotepad.type_keys(\"%FTudo\")\n",
    "app.UntitledNotepad.type_keys(\"%FBem\")"
   ]
  },
  {
   "cell_type": "markdown",
   "metadata": {},
   "source": []
  }
 ],
 "metadata": {
  "kernelspec": {
   "display_name": "venv",
   "language": "python",
   "name": "python3"
  },
  "language_info": {
   "codemirror_mode": {
    "name": "ipython",
    "version": 3
   },
   "file_extension": ".py",
   "mimetype": "text/x-python",
   "name": "python",
   "nbconvert_exporter": "python",
   "pygments_lexer": "ipython3",
   "version": "3.9.6"
  },
  "orig_nbformat": 4,
  "vscode": {
   "interpreter": {
    "hash": "7fdf2ad8ec70f51ef4001348582f04340fdb513a185a32ba5bcf15eb25caa54f"
   }
  }
 },
 "nbformat": 4,
 "nbformat_minor": 2
}
