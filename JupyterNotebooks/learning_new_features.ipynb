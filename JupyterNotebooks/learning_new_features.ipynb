{
 "cells": [
  {
   "cell_type": "code",
   "execution_count": 5,
   "metadata": {},
   "outputs": [
    {
     "name": "stdout",
     "output_type": "stream",
     "text": [
      "Ferrari, arg = 3\n",
      "Ferrari, arg = 7\n",
      "Ferrari, arg = 10\n"
     ]
    }
   ],
   "source": [
    "# Transform classes to callable\n",
    "# and how to call the __repr__ from the arg\n",
    "\n",
    "# __repr__ is for developers & __str__ is for users\n",
    "\n",
    "from typing import Any\n",
    "\n",
    "\n",
    "class Car:\n",
    "    def __init__(self, brand: str):\n",
    "        self.brand = brand\n",
    "\n",
    "    def __call__(self, arg: Any, *args: Any, **kwds: Any):\n",
    "        print(f'{self.brand}, {arg = }')\n",
    "\n",
    "\n",
    "car = Car('Ferrari')\n",
    "\n",
    "car(3)\n",
    "car(7)\n",
    "car(10)"
   ]
  },
  {
   "cell_type": "code",
   "execution_count": 8,
   "metadata": {},
   "outputs": [
    {
     "name": "stdout",
     "output_type": "stream",
     "text": [
      "íaça ed otsog uE\n",
      "ossi retrevni osicerP\n",
      "mébmat ossI\n"
     ]
    }
   ],
   "source": [
    "### slice solution\n",
    "text_1 = \"Eu gosto de açaí\"\n",
    "text_2 = \"Preciso inverter isso\"\n",
    "text_3 = \"Isso também\"\n",
    "my_slice = slice(None, None, -1)\n",
    "print(text_1[my_slice])\n",
    "print(text_2[my_slice])\n",
    "print(text_3[my_slice])\n"
   ]
  },
  {
   "cell_type": "code",
   "execution_count": 18,
   "metadata": {},
   "outputs": [
    {
     "name": "stdout",
     "output_type": "stream",
     "text": [
      "Person(name='Name', age=33, email='email@email.com')\n",
      "item = Item(nome='martelo', preco_unitario=10.49, quantidade=12)\n",
      "125.88\n"
     ]
    }
   ],
   "source": [
    "from dataclasses import dataclass\n",
    "## dataclass\n",
    "\n",
    "@dataclass\n",
    "class Person:\n",
    "    name: str\n",
    "    age: int\n",
    "    email: str = \"\"\n",
    "\n",
    "@dataclass\n",
    "class Item:\n",
    "    nome: str\n",
    "    preco_unitario: float\n",
    "    quantidade: int = 0\n",
    "\n",
    "    def custo_total(self) -> float:\n",
    "        return self.preco_unitario * self.quantidade\n",
    "\n",
    "\n",
    "p = Person(\"Name\", 33, \"email@email.com\")\n",
    "print(p)\n",
    "\n",
    "item = Item('martelo', 10.49, 12)\n",
    "print(f'{item = }')\n",
    "# Saida: Item(nome=\"machado\", preco_unitario=10.49, quantidade=12)\n",
    "print(item.custo_total())\n"
   ]
  }
 ],
 "metadata": {
  "kernelspec": {
   "display_name": "venv",
   "language": "python",
   "name": "python3"
  },
  "language_info": {
   "codemirror_mode": {
    "name": "ipython",
    "version": 3
   },
   "file_extension": ".py",
   "mimetype": "text/x-python",
   "name": "python",
   "nbconvert_exporter": "python",
   "pygments_lexer": "ipython3",
   "version": "3.9.6"
  },
  "orig_nbformat": 4
 },
 "nbformat": 4,
 "nbformat_minor": 2
}
