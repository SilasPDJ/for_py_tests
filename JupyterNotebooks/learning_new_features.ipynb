{
 "cells": [
  {
   "cell_type": "code",
   "execution_count": 5,
   "metadata": {},
   "outputs": [
    {
     "name": "stdout",
     "output_type": "stream",
     "text": [
      "Ferrari, arg = 3\n",
      "Ferrari, arg = 7\n",
      "Ferrari, arg = 10\n"
     ]
    }
   ],
   "source": [
    "# Transform classes to callable\n",
    "# and how to call the __repr__ from the arg\n",
    "\n",
    "# __repr__ is for developers & __str__ is for users\n",
    "\n",
    "from typing import Any\n",
    "\n",
    "\n",
    "class Car:\n",
    "    def __init__(self, brand: str):\n",
    "        self.brand = brand\n",
    "\n",
    "    def __call__(self, arg: Any, *args: Any, **kwds: Any):\n",
    "        print(f'{self.brand}, {arg = }')\n",
    "\n",
    "\n",
    "car = Car('Ferrari')\n",
    "\n",
    "car(3)\n",
    "car(7)\n",
    "car(10)"
   ]
  },
  {
   "cell_type": "code",
   "execution_count": 8,
   "metadata": {},
   "outputs": [
    {
     "name": "stdout",
     "output_type": "stream",
     "text": [
      "íaça ed otsog uE\n",
      "ossi retrevni osicerP\n",
      "mébmat ossI\n"
     ]
    }
   ],
   "source": [
    "### slice solution\n",
    "text_1 = \"Eu gosto de açaí\"\n",
    "text_2 = \"Preciso inverter isso\"\n",
    "text_3 = \"Isso também\"\n",
    "my_slice = slice(None, None, -1)\n",
    "print(text_1[my_slice])\n",
    "print(text_2[my_slice])\n",
    "print(text_3[my_slice])\n"
   ]
  },
  {
   "cell_type": "code",
   "execution_count": 19,
   "metadata": {},
   "outputs": [
    {
     "name": "stdout",
     "output_type": "stream",
     "text": [
      "Person(name='Name', age=33, email='email@email.com')\n",
      "item = Item(nome='martelo', preco_unitario=10.49, quantidade=12)\n",
      "125.88\n"
     ]
    }
   ],
   "source": [
    "from dataclasses import dataclass\n",
    "## dataclass\n",
    "\n",
    "@dataclass\n",
    "class Person:\n",
    "    name: str\n",
    "    age: int\n",
    "    email: str = \"\"\n",
    "\n",
    "@dataclass\n",
    "class Item:\n",
    "    nome: str\n",
    "    preco_unitario: float\n",
    "    quantidade: int = 0\n",
    "\n",
    "    def custo_total(self) -> float:\n",
    "        return self.preco_unitario * self.quantidade\n",
    "\n",
    "\n",
    "p = Person(\"Name\", 33, \"email@email.com\")\n",
    "print(p)\n",
    "\n",
    "item = Item('martelo', 10.49, 12)\n",
    "print(f'{item = }')\n",
    "# Saida: Item(nome=\"machado\", preco_unitario=10.49, quantidade=12)\n",
    "print(item.custo_total())\n"
   ]
  },
  {
   "cell_type": "code",
   "execution_count": 34,
   "metadata": {},
   "outputs": [
    {
     "name": "stdout",
     "output_type": "stream",
     "text": [
      "{'1st': 1, '2nd': 2}\n",
      "{'1st': 1, '2nd': 2}\n"
     ]
    }
   ],
   "source": [
    "# juntar dicionarios\n",
    "d = {'1st':1}\n",
    "d2 = {'2nd': 2}\n",
    "d_d2 = d | d2\n",
    "print(d_d2)\n",
    "\n",
    "opt2 = {**d ,**d2}\n",
    "print(opt2)\n"
   ]
  },
  {
   "cell_type": "code",
   "execution_count": 35,
   "metadata": {},
   "outputs": [
    {
     "name": "stdout",
     "output_type": "stream",
     "text": [
      "50.00%\n",
      "1,000.0%\n"
     ]
    }
   ],
   "source": [
    "# formatos de porcentagem\n",
    "percent = .5\n",
    "print(f'{percent:.2%}')\n",
    "\n",
    "print(f'{10:,.1%}')\n"
   ]
  },
  {
   "cell_type": "code",
   "execution_count": 50,
   "metadata": {},
   "outputs": [
    {
     "name": "stdout",
     "output_type": "stream",
     "text": [
      "[('A', 'B'), ('A', 'C'), ('B', 'A'), ('B', 'C'), ('C', 'A'), ('C', 'B')]\n",
      "[('A', 'B', 'C'), ('A', 'C', 'B'), ('B', 'A', 'C'), ('B', 'C', 'A'), ('C', 'A', 'B'), ('C', 'B', 'A')]\n"
     ]
    }
   ],
   "source": [
    "from itertools import permutations\n",
    "# getting all combinations possible\n",
    "l = ['A', 'B', 'C']\n",
    "p = permutations(l, r=2)\n",
    "print(list(p)) \n",
    "p = permutations(l)\n",
    "print(list(p)) "
   ]
  },
  {
   "cell_type": "code",
   "execution_count": 53,
   "metadata": {},
   "outputs": [
    {
     "name": "stdout",
     "output_type": "stream",
     "text": [
      "[1, 2, 3, 4]\n",
      "[1, 2, 3, 4]\n"
     ]
    }
   ],
   "source": [
    "# List comprehension trick\n",
    "groups = [[1,2], [3,4]]\n",
    "\n",
    "new_list = []\n",
    "# old school way\n",
    "for g in groups:\n",
    "    for elem in g:\n",
    "        new_list.append(elem)\n",
    "print(new_list)\n",
    "\n",
    "# nowadays let's go just as:\n",
    "elements = [el for g in groups for el in g]\n",
    "print(elements)\n",
    "## start with the element you want to return\n",
    "## then the structure as it is from above to below\n"
   ]
  },
  {
   "cell_type": "code",
   "execution_count": 1,
   "metadata": {},
   "outputs": [
    {
     "name": "stdout",
     "output_type": "stream",
     "text": [
      "A B C D "
     ]
    },
    {
     "data": {
      "text/plain": [
       "<function __main__.func(param: str)>"
      ]
     },
     "execution_count": 1,
     "metadata": {},
     "output_type": "execute_result"
    }
   ],
   "source": [
    "## funcao de funções\n",
    "def func(param: str):\n",
    "    print(param, end=' ')\n",
    "    return func\n",
    "\n",
    "func('A')('B')('C')('D')"
   ]
  },
  {
   "cell_type": "code",
   "execution_count": 6,
   "metadata": {},
   "outputs": [
    {
     "data": {
      "text/plain": [
       "Person(name='Ninguém', address='main st 123', active=True, email_adresses=[], id='IRDPDDGQPPWM')"
      ]
     },
     "execution_count": 6,
     "metadata": {},
     "output_type": "execute_result"
    }
   ],
   "source": [
    "from dataclasses import dataclass, field\n",
    "import random\n",
    "import string\n",
    "\n",
    "def generate_id() -> str:\n",
    "    return \"\".join(random.choices(string.ascii_uppercase, k=12))\n",
    "\n",
    "@dataclass\n",
    "class Person:\n",
    "    name: str\n",
    "    address: str\n",
    "    active: bool = True\n",
    "    email_adresses: list[str] = field(default_factory=list)\n",
    "    id: str = field(init=False, default_factory=generate_id)\n",
    "    search_string: str = field(init=False, repr=False)\n",
    "\n",
    "    def __post_init__(self):\n",
    "        self.search_string = f\"{self.name} {self.address}\"\n",
    "    \n",
    "\n",
    "Person(\"Ninguém\", \"main st 123\")"
   ]
  }
 ],
 "metadata": {
  "kernelspec": {
   "display_name": "venv",
   "language": "python",
   "name": "python3"
  },
  "language_info": {
   "codemirror_mode": {
    "name": "ipython",
    "version": 3
   },
   "file_extension": ".py",
   "mimetype": "text/x-python",
   "name": "python",
   "nbconvert_exporter": "python",
   "pygments_lexer": "ipython3",
   "version": "3.9.6"
  },
  "orig_nbformat": 4
 },
 "nbformat": 4,
 "nbformat_minor": 2
}
