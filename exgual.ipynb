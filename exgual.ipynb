{
 "cells": [
  {
   "cell_type": "code",
   "execution_count": 4,
   "metadata": {},
   "outputs": [],
   "source": [
    "from prime_nums import get_prime_nums\n",
    "import numpy\n",
    "def mult(*nums): return numpy.prod(nums)\n",
    "\n",
    "\n",
    "def merge(a, b):\n",
    "    from collections import Counter\n",
    "    na, nb = Counter(a), Counter(b)\n",
    "    return list(Counter({k: max((na[k], nb[k])) for k in set(a + b)}).elements())\n",
    "\n",
    "def get_mmc(*nums):\n",
    "\n",
    "    # 1 é divisível somente por ele mesmo, por isso não é primo\n",
    "    max_primes = max(nums)\n",
    "\n",
    "    primes = get_prime_nums(99, max_num=max_primes)\n",
    "\n",
    "    pris_full_list = []\n",
    "    # pri de primes\n",
    "\n",
    "    for n in nums:\n",
    "        pris_list = []\n",
    "        print(n)\n",
    "        calc_n = n\n",
    "        while calc_n != 1:\n",
    "            for pri in primes:\n",
    "                if calc_n % pri == 0:\n",
    "                    calc_n /= pri\n",
    "                    # print(calc_n, ', ', end='')\n",
    "                    pris_list.append(pri)\n",
    "                    print(pri, ' n: ', calc_n)\n",
    "        pris_full_list.append(pris_list)\n",
    "    print(pris_full_list)\n",
    "    # MAKE THE MERGE\n",
    "    # final_pris_full = []\n",
    "    for cont, lispri in enumerate(pris_full_list[1:]):\n",
    "        if cont == 0:\n",
    "            # mergir a 0º com 1º\n",
    "            final_pris_full = merge(pris_full_list[cont], lispri)\n",
    "        else:\n",
    "            final_pris_full = merge(final_pris_full, lispri)\n",
    "\n",
    "    print('~'*30)\n",
    "    print(f'MMC de {nums} é {mult(final_pris_full)}')\n",
    "    print('~'*30)\n",
    "    # FUNCIONANDO!!!!!\n",
    "    # input(final_pris_full)"
   ]
  },
  {
   "cell_type": "code",
   "execution_count": 7,
   "metadata": {},
   "outputs": [
    {
     "name": "stdout",
     "output_type": "stream",
     "text": [
      "[5, 10, 15]\n",
      "[5, 10, 5]\n",
      "[1, 2, 1]\n",
      "[1, 2, 1]\n",
      "[1, 2, 1]\n",
      "[1, 2, 1]\n",
      "[1, 2, 1]\n",
      "[1, 2, 1]\n",
      "[1, 2, 1]\n",
      "[1, 2, 1]\n"
     ]
    }
   ],
   "source": []
  }
 ],
 "metadata": {
  "interpreter": {
   "hash": "7fdf2ad8ec70f51ef4001348582f04340fdb513a185a32ba5bcf15eb25caa54f"
  },
  "kernelspec": {
   "display_name": "Python 3.9.6 ('venv': venv)",
   "language": "python",
   "name": "python3"
  },
  "language_info": {
   "codemirror_mode": {
    "name": "ipython",
    "version": 3
   },
   "file_extension": ".py",
   "mimetype": "text/x-python",
   "name": "python",
   "nbconvert_exporter": "python",
   "pygments_lexer": "ipython3",
   "version": "3.9.6"
  },
  "orig_nbformat": 4
 },
 "nbformat": 4,
 "nbformat_minor": 2
}
