{
 "cells": [
  {
   "cell_type": "code",
   "execution_count": 3,
   "metadata": {},
   "outputs": [],
   "source": [
    "# imports\n",
    "import pyautogui as pygui\n",
    "import tkinter as tk\n",
    "from time import sleep\n",
    "pyautogui = pygui\n",
    "\n",
    "#\n",
    "from tkinter import Tk\n",
    "from threading import Thread\n",
    "from ctypes import windll\n",
    "import json\n",
    "from functools import partial\n",
    "\n",
    "\n"
   ]
  },
  {
   "cell_type": "code",
   "execution_count": 33,
   "metadata": {},
   "outputs": [
    {
     "name": "stdout",
     "output_type": "stream",
     "text": [
      "(255, 255, 255)\n"
     ]
    },
    {
     "data": {
      "text/plain": [
       "(255, 255, 255)"
      ]
     },
     "execution_count": 33,
     "metadata": {},
     "output_type": "execute_result"
    }
   ],
   "source": [
    "# declarações de variáveis\n",
    "def get_color():\n",
    "    im = pygui.screenshot()\n",
    "    im.save(\"datas/teste.png\")\n",
    "    print(pygui.position())\n",
    "    px = im.getpixel((pygui.position()))\n",
    "    print(px)\n",
    "    return px\n",
    "# cor_compra_a_mercado = get_color()\n",
    "\n",
    "\n"
   ]
  },
  {
   "cell_type": "code",
   "execution_count": 22,
   "metadata": {},
   "outputs": [
    {
     "name": "stdout",
     "output_type": "stream",
     "text": [
      "elsed\n",
      "elsed\n",
      "SPACE\n"
     ]
    },
    {
     "data": {
      "text/plain": [
       "True"
      ]
     },
     "execution_count": 22,
     "metadata": {},
     "output_type": "execute_result"
    }
   ],
   "source": [
    "def press_key_b4(key: str):\n",
    "    from keyboard import is_pressed\n",
    "    \"\"\"\n",
    "    Só dá break quando uma tecla específica é pressionada, e então, continua o código\n",
    "    :param key:\n",
    "    :return:\n",
    "    \"\"\"\n",
    "\n",
    "    while True:\n",
    "        #\n",
    "        if is_pressed(key):\n",
    "            if is_pressed(key):\n",
    "                print(key)\n",
    "                return True\n",
    "        else:\n",
    "            ...\n",
    "# from pynput.mouse import Listener\n",
    "press_key_b4(\"SPACE\")"
   ]
  },
  {
   "cell_type": "code",
   "execution_count": 23,
   "metadata": {},
   "outputs": [
    {
     "name": "stdout",
     "output_type": "stream",
     "text": [
      "1613 420\n",
      "1613 420\n",
      "1613 420\n",
      "Pressed Left Click at (1519, 493)\n"
     ]
    }
   ],
   "source": [
    "from pynput import mouse\n",
    "\n",
    "def on_click(x, y, button, pressed):\n",
    "    if button == mouse.Button.left:\n",
    "        print('{} at {}'.format('Pressed Left Click' if pressed else 'Released Left Click', (x, y)))\n",
    "        return False # Returning False if you need to stop the program when Left clicked.\n",
    "\n",
    "\n",
    "def on_move(x, y, dx, dy):\n",
    "    print(x, y)\n",
    "\n",
    "\n",
    "listener = mouse.Listener(on_click=on_click, on_scroll=on_move)\n",
    "listener.start()\n",
    "listener.join()"
   ]
  },
  {
   "cell_type": "code",
   "execution_count": 44,
   "metadata": {},
   "outputs": [
    {
     "name": "stdout",
     "output_type": "stream",
     "text": [
      "(17, 152, 80)\n"
     ]
    },
    {
     "data": {
      "text/plain": [
       "'#119850'"
      ]
     },
     "execution_count": 44,
     "metadata": {},
     "output_type": "execute_result"
    }
   ],
   "source": [
    "def rgb_to_hex(rgb):\n",
    "    return '#%02x%02x%02x' % rgb\n",
    "\n"
   ]
  },
  {
   "cell_type": "code",
   "execution_count": 74,
   "metadata": {},
   "outputs": [
    {
     "name": "stdout",
     "output_type": "stream",
     "text": [
      "(33, 33, 33)\n"
     ]
    },
    {
     "data": {
      "text/plain": [
       "'#212121'"
      ]
     },
     "execution_count": 74,
     "metadata": {},
     "output_type": "execute_result"
    }
   ],
   "source": [
    "rgb_to_hex(get_color())"
   ]
  },
  {
   "cell_type": "code",
   "execution_count": 68,
   "metadata": {},
   "outputs": [
    {
     "data": {
      "text/plain": [
       "True"
      ]
     },
     "execution_count": 68,
     "metadata": {},
     "output_type": "execute_result"
    }
   ],
   "source": [
    "\"comprar\" in {\"comprar\": 0, 'vender': \"1\"}"
   ]
  },
  {
   "cell_type": "code",
   "execution_count": 71,
   "metadata": {},
   "outputs": [
    {
     "name": "stdout",
     "output_type": "stream",
     "text": [
      "(198, 138, 71)\n"
     ]
    },
    {
     "data": {
      "text/plain": [
       "'#c68a47'"
      ]
     },
     "execution_count": 71,
     "metadata": {},
     "output_type": "execute_result"
    }
   ],
   "source": [
    "rgb_to_hex(get_color())"
   ]
  }
 ],
 "metadata": {
  "kernelspec": {
   "display_name": "Python 3.9.6 ('venv': venv)",
   "language": "python",
   "name": "python3"
  },
  "language_info": {
   "codemirror_mode": {
    "name": "ipython",
    "version": 3
   },
   "file_extension": ".py",
   "mimetype": "text/x-python",
   "name": "python",
   "nbconvert_exporter": "python",
   "pygments_lexer": "ipython3",
   "version": "3.9.6"
  },
  "orig_nbformat": 4,
  "vscode": {
   "interpreter": {
    "hash": "7fdf2ad8ec70f51ef4001348582f04340fdb513a185a32ba5bcf15eb25caa54f"
   }
  }
 },
 "nbformat": 4,
 "nbformat_minor": 2
}
