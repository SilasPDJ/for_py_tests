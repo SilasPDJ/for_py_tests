{
 "cells": [
  {
   "cell_type": "code",
   "execution_count": 6,
   "metadata": {},
   "outputs": [],
   "source": [
    "# imports\n",
    "import pyautogui as pygui\n",
    "import tkinter as tk\n",
    "from time import sleep\n",
    "pyautogui = pygui\n",
    "\n",
    "#\n",
    "from tkinter import Tk\n",
    "from threading import Thread\n",
    "from ctypes import windll\n",
    "import json\n",
    "from functools import partial\n",
    "\n",
    "\n"
   ]
  },
  {
   "cell_type": "code",
   "execution_count": 4,
   "metadata": {},
   "outputs": [],
   "source": [
    "# declarações de variáveis\n",
    "def get_color():\n",
    "    im = pygui.screenshot()\n",
    "    im.save(\"datas/teste.png\")\n",
    "    print(pygui.position())\n",
    "    px = im.getpixel((pygui.position()))\n",
    "    print(px)\n",
    "    return px\n",
    "# cor_compra_a_mercado = get_color()\n",
    "\n",
    "\n"
   ]
  },
  {
   "cell_type": "code",
   "execution_count": 22,
   "metadata": {},
   "outputs": [
    {
     "name": "stdout",
     "output_type": "stream",
     "text": [
      "elsed\n",
      "elsed\n",
      "SPACE\n"
     ]
    },
    {
     "data": {
      "text/plain": [
       "True"
      ]
     },
     "execution_count": 22,
     "metadata": {},
     "output_type": "execute_result"
    }
   ],
   "source": [
    "def press_key_b4(key: str):\n",
    "    from keyboard import is_pressed\n",
    "    \"\"\"\n",
    "    Só dá break quando uma tecla específica é pressionada, e então, continua o código\n",
    "    :param key:\n",
    "    :return:\n",
    "    \"\"\"\n",
    "\n",
    "    while True:\n",
    "        #\n",
    "        if is_pressed(key):\n",
    "            if is_pressed(key):\n",
    "                print(key)\n",
    "                return True\n",
    "        else:\n",
    "            ...\n",
    "# from pynput.mouse import Listener\n",
    "press_key_b4(\"SPACE\")"
   ]
  },
  {
   "cell_type": "code",
   "execution_count": 23,
   "metadata": {},
   "outputs": [
    {
     "name": "stdout",
     "output_type": "stream",
     "text": [
      "1613 420\n",
      "1613 420\n",
      "1613 420\n",
      "Pressed Left Click at (1519, 493)\n"
     ]
    }
   ],
   "source": [
    "from pynput import mouse\n",
    "\n",
    "def on_click(x, y, button, pressed):\n",
    "    if button == mouse.Button.left:\n",
    "        print('{} at {}'.format('Pressed Left Click' if pressed else 'Released Left Click', (x, y)))\n",
    "        return False # Returning False if you need to stop the program when Left clicked.\n",
    "\n",
    "\n",
    "def on_move(x, y, dx, dy):\n",
    "    print(x, y)\n",
    "\n",
    "\n",
    "listener = mouse.Listener(on_click=on_click, on_scroll=on_move)\n",
    "listener.start()\n",
    "listener.join()"
   ]
  },
  {
   "cell_type": "code",
   "execution_count": 2,
   "metadata": {},
   "outputs": [],
   "source": [
    "def rgb_to_hex(rgb):\n",
    "    return '#%02x%02x%02x' % rgb\n",
    "\n"
   ]
  },
  {
   "cell_type": "code",
   "execution_count": 7,
   "metadata": {},
   "outputs": [
    {
     "name": "stdout",
     "output_type": "stream",
     "text": [
      "Point(x=627, y=818)\n",
      "(128, 128, 128)\n"
     ]
    },
    {
     "data": {
      "text/plain": [
       "'#808080'"
      ]
     },
     "execution_count": 7,
     "metadata": {},
     "output_type": "execute_result"
    }
   ],
   "source": [
    "rgb_to_hex(get_color())"
   ]
  },
  {
   "cell_type": "code",
   "execution_count": 68,
   "metadata": {},
   "outputs": [
    {
     "data": {
      "text/plain": [
       "True"
      ]
     },
     "execution_count": 68,
     "metadata": {},
     "output_type": "execute_result"
    }
   ],
   "source": [
    "\"comprar\" in {\"comprar\": 0, 'vender': \"1\"}"
   ]
  },
  {
   "cell_type": "code",
   "execution_count": 7,
   "metadata": {},
   "outputs": [
    {
     "name": "stdout",
     "output_type": "stream",
     "text": [
      "Point(x=-694, y=290)\n",
      "(255, 255, 255)\n"
     ]
    },
    {
     "data": {
      "text/plain": [
       "'#ffffff'"
      ]
     },
     "execution_count": 7,
     "metadata": {},
     "output_type": "execute_result"
    }
   ],
   "source": [
    "rgb_to_hex(get_color())"
   ]
  },
  {
   "cell_type": "code",
   "execution_count": 1,
   "metadata": {},
   "outputs": [
    {
     "ename": "NameError",
     "evalue": "name 'pygui' is not defined",
     "output_type": "error",
     "traceback": [
      "\u001b[1;31m---------------------------------------------------------------------------\u001b[0m",
      "\u001b[1;31mNameError\u001b[0m                                 Traceback (most recent call last)",
      "\u001b[1;32mo:\\HACKING\\MY_PROJECTS\\for_py_tests\\just_other_niceone.ipynb Célula: 9\u001b[0m in \u001b[0;36m<cell line: 2>\u001b[1;34m()\u001b[0m\n\u001b[0;32m      <a href='vscode-notebook-cell:/o%3A/HACKING/MY_PROJECTS/for_py_tests/just_other_niceone.ipynb#X11sZmlsZQ%3D%3D?line=0'>1</a>\u001b[0m \u001b[39m# pygui.click()\u001b[39;00m\n\u001b[1;32m----> <a href='vscode-notebook-cell:/o%3A/HACKING/MY_PROJECTS/for_py_tests/just_other_niceone.ipynb#X11sZmlsZQ%3D%3D?line=1'>2</a>\u001b[0m pygui\u001b[39m.\u001b[39mposition()\n",
      "\u001b[1;31mNameError\u001b[0m: name 'pygui' is not defined"
     ]
    }
   ],
   "source": [
    "# pygui.click()\n",
    "pygui.position()"
   ]
  },
  {
   "cell_type": "code",
   "execution_count": 1,
   "metadata": {},
   "outputs": [],
   "source": [
    "from time import sleep\n",
    "import pyautogui as pygui\n",
    "sleep(4)\n",
    "pygui.click(pygui.getActiveWindow().center, clicks=0)\n",
    "pygui.move(320, -310)\n"
   ]
  },
  {
   "cell_type": "code",
   "execution_count": 2,
   "metadata": {},
   "outputs": [],
   "source": [
    "def iss_plan_exists(*excel_path, ext):\n",
    "    import os\n",
    "\n",
    "    ext = excel_path[-1]\n",
    "    ext = f\".{ext}\".replace(\"..\", \".\")\n",
    "    print(ext)\n",
    "    # o último argumento vai ser a extensão\n",
    "    try:\n",
    "        with open(os.path.join(*excel_path[:-1])+ext) as f:\n",
    "            return f.name\n",
    "    except FileNotFoundError as e:\n",
    "        print(e)\n",
    "        return False\n"
   ]
  },
  {
   "cell_type": "code",
   "execution_count": 7,
   "metadata": {},
   "outputs": [
    {
     "data": {
      "text/plain": [
       "'O:\\\\OneDrive\\\\_FISCAL-2021\\\\2022\\\\09-2022\\\\Oesk Contabil\\\\19470379000121.xlsx'"
      ]
     },
     "execution_count": 7,
     "metadata": {},
     "output_type": "execute_result"
    }
   ],
   "source": [
    "path = r\"O:\\OneDrive\\_FISCAL-2021\\2022\\09-2022\\Oesk Contabil\"\n",
    "iss_plan_exists(path, \"19470379000121\", \".xlsx\")"
   ]
  },
  {
   "cell_type": "code",
   "execution_count": 1,
   "metadata": {},
   "outputs": [
    {
     "data": {
      "text/plain": [
       "[{1: 'Janeiro'},\n",
       " {2: 'Fevereiro'},\n",
       " {3: 'Março'},\n",
       " {4: 'Abril'},\n",
       " {5: 'Maio'},\n",
       " {6: 'Junho'},\n",
       " {7: 'Julho'},\n",
       " {8: 'Agosto'},\n",
       " {9: 'Setembro'},\n",
       " {10: 'Outubro'},\n",
       " {11: 'Novembro'},\n",
       " {12: 'Dezembro'}]"
      ]
     },
     "execution_count": 1,
     "metadata": {},
     "output_type": "execute_result"
    }
   ],
   "source": [
    "from datetime import datetime as dt\n",
    "from datetime import datetime, date\n",
    "import pytz\n",
    "timezone = pytz.timezone('America/Sao_Paulo')\n",
    "now = datetime.now(tz=timezone)\n",
    "\n",
    "import locale\n",
    "locale.setlocale(locale.LC_ALL, 'pt_pt.UTF-8')\n",
    "now.strftime(\"%B\")\n",
    "\n",
    "__options_meses_principais = [{nkey: date(datetime.now().year, nkey, 1).strftime(\"%B\").capitalize()} for nkey in range(1,13)]\n",
    "__options_meses_principais"
   ]
  }
 ],
 "metadata": {
  "kernelspec": {
   "display_name": "Python 3.9.6 ('venv': venv)",
   "language": "python",
   "name": "python3"
  },
  "language_info": {
   "codemirror_mode": {
    "name": "ipython",
    "version": 3
   },
   "file_extension": ".py",
   "mimetype": "text/x-python",
   "name": "python",
   "nbconvert_exporter": "python",
   "pygments_lexer": "ipython3",
   "version": "3.9.6"
  },
  "orig_nbformat": 4,
  "vscode": {
   "interpreter": {
    "hash": "7fdf2ad8ec70f51ef4001348582f04340fdb513a185a32ba5bcf15eb25caa54f"
   }
  }
 },
 "nbformat": 4,
 "nbformat_minor": 2
}
